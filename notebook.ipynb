{
 "cells": [
  {
   "cell_type": "code",
   "execution_count": null,
   "id": "5325a4c0-ceb3-4b66-acd2-5eadcefe3a63",
   "metadata": {
    "collapsed": false,
    "executionCancelledAt": null,
    "executionTime": 10,
    "jupyter": {
     "outputs_hidden": false,
     "source_hidden": false
    },
    "lastExecutedAt": 1754820426834,
    "lastExecutedByKernel": "6b70e460-24a6-4388-a6a8-29fb6c70e129",
    "lastScheduledRunId": null,
    "lastSuccessfullyExecutedCode": "# Import necessary packages\nimport pandas as pd\nimport torch\n\nfrom transformers import logging\nfrom transformers import pipeline\nimport evaluate\nlogging.set_verbosity(logging.WARNING)",
    "outputsMetadata": {
     "0": {
      "height": 416,
      "type": "stream"
     }
    }
   },
   "outputs": [],
   "source": [
    "import pandas as pd\n",
    "import torch\n",
    "\n",
    "from transformers import logging\n",
    "from transformers import pipeline\n",
    "import evaluate\n",
    "logging.set_verbosity(logging.WARNING)"
   ]
  },
  {
   "cell_type": "code",
   "execution_count": 79,
   "id": "6c3a3bf7-8675-4fdf-8580-0c69b58f471e",
   "metadata": {
    "executionCancelledAt": null,
    "executionTime": 49,
    "lastExecutedAt": 1754820426883,
    "lastExecutedByKernel": "6b70e460-24a6-4388-a6a8-29fb6c70e129",
    "lastScheduledRunId": null,
    "lastSuccessfullyExecutedCode": "df = pd.read_csv('data/car_reviews.csv',delimiter=\";\")\nprint(data.head())\n\nreviews = df['Review'].tolist()\nreal_labels = df['Class'].tolist()",
    "outputsMetadata": {
     "0": {
      "height": 143,
      "type": "stream"
     }
    }
   },
   "outputs": [
    {
     "name": "stdout",
     "output_type": "stream",
     "text": [
      "                                             ﻿Review     Class\n",
      "0  I am very satisfied with my 2014 Nissan NV SL....  POSITIVE\n",
      "1  The car is fine. It's a bit loud and not very ...  NEGATIVE\n",
      "2  My first foreign car. Love it, I would buy ano...  POSITIVE\n",
      "3  I've come across numerous reviews praising the...  NEGATIVE\n",
      "4  I've been dreaming of owning an SUV for quite ...  POSITIVE\n"
     ]
    }
   ],
   "source": [
    "df = pd.read_csv('data/car_reviews.csv',delimiter=\";\")\n",
    "print(data.head())\n",
    "\n",
    "reviews = df['Review'].tolist()\n",
    "real_labels = df['Class'].tolist()"
   ]
  },
  {
   "cell_type": "code",
   "execution_count": 80,
   "id": "cc79e466-1616-4c24-8599-a31c4d0e8cb1",
   "metadata": {
    "collapsed": true,
    "executionCancelledAt": null,
    "executionTime": 490,
    "jupyter": {
     "outputs_hidden": true,
     "source_hidden": false
    },
    "lastExecutedAt": 1754820427373,
    "lastExecutedByKernel": "6b70e460-24a6-4388-a6a8-29fb6c70e129",
    "lastScheduledRunId": null,
    "lastSuccessfullyExecutedCode": "classification_model = pipeline(task = \"sentiment-analysis\", model = 'distilbert-base-uncased-finetuned-sst-2-english')\n\npredicted_labels = classification_model(reviews)\n\nfor review, prediction, label in zip(reviews, predicted_labels, real_labels):\n    print(f\"Review: {review}\\nActual Sentiment: {label}\\nPredicted Sentiment: {prediction['label']} (Confidence: {prediction['score']:.4f})\\n\")",
    "outputsMetadata": {
     "0": {
      "height": 38,
      "type": "stream"
     },
     "1": {
      "height": 616,
      "type": "stream"
     }
    }
   },
   "outputs": [
    {
     "name": "stderr",
     "output_type": "stream",
     "text": [
      "Device set to use cpu\n"
     ]
    },
    {
     "name": "stdout",
     "output_type": "stream",
     "text": [
      "Review: I am very satisfied with my 2014 Nissan NV SL. I use this van for my business deliveries and personal use. Camping, road trips, etc. We dont have any children so I store most of the seats in my warehouse. I wanted the passenger van for the rear air conditioning. We drove our van from Florida to California for a Cross Country trip in 2014. We averaged about 18 mpg. We drove thru a lot of rain and It was a very comfortable and stable vehicle. The V8 Nissan Titan engine is a 500k mile engine. It has been tested many times by delivery and trucking companies. This is why Nissan gives you a 5 year or 100k mile bumper to bumper warranty. Many people are scared about driving this van because of its size. But with front and rear sonar sensors, large mirrors and the back up camera. It is easy to drive. The front and rear sensors also monitor the front and rear sides of the bumpers making it easier to park close to objects. Our Nissan NV is a Tow Monster. It pulls our 5000 pound travel trailer like its not even there. I have plenty of power to pass a vehicle if needed. The 5.6 liter engine produces 317 hp. I have owned Chevy and Ford vans and there were not very comfortable and had little cockpit room. The Nissan NV is the only vehicle made that has the engine forward like a pick up truck giving the driver plenty of room and comfort in the cockpit area. I dont have any negatives to say about my NV. This is a wide vehicle. The only modification I would like to see from Nissan is for them to add amber side mirror marker lights.BTW. I now own a 2016 Nissan NVP SL. Love it.\n",
      "Actual Sentiment: POSITIVE\n",
      "Predicted Sentiment: POSITIVE (Confidence: 0.9294)\n",
      "\n",
      "Review: The car is fine. It's a bit loud and not very powerful. On one hand, compared to its peers, the interior is well-built. The transmission failed a few years ago, and the dealer replaced it under warranty with no issues. Now, about 60k miles later, the transmission is failing again. It sounds like a truck, and the issues are well-documented. The dealer tells me it is normal, refusing to do anything to resolve the issue. After owning the car for 4 years, there are many other vehicles I would purchase over this one. Initially, I really liked what the brand is about: ride quality, reliability, etc. But I will not purchase another one. Despite these concerns, I must say, the level of comfort in the car has always been satisfactory, but not worth the rest of issues found.\n",
      "Actual Sentiment: NEGATIVE\n",
      "Predicted Sentiment: POSITIVE (Confidence: 0.8654)\n",
      "\n",
      "Review: My first foreign car. Love it, I would buy another.\n",
      "Actual Sentiment: POSITIVE\n",
      "Predicted Sentiment: POSITIVE (Confidence: 0.9995)\n",
      "\n",
      "Review: I've come across numerous reviews praising the Rogue, and I genuinely feel like I might be missing something. It's only been a week since I got the car, and I am genuinely disappointed. I truly wish I could return it. My main concern revolves around what I see as a significant design flaw (which I believe also exists in the Murano, though that wasn't much better and considerably pricier). The rear windshield is just too small. The headrests in the back seat obstruct the sides of the rearview window. This \"Crossover\" feels more like a cheaply made compact car. My other vehicle is a Sonata, and it provides a significantly quieter and smoother ride. I did not anticipate this car to ride so roughly; my 2006 Pathfinder had a smoother ride! I would rate this car a 5 all around.\n",
      "Actual Sentiment: NEGATIVE\n",
      "Predicted Sentiment: NEGATIVE (Confidence: 0.9935)\n",
      "\n",
      "Review: I've been dreaming of owning an SUV for quite a while, but I've been driving cars that were already paid for during an extended period. I ultimately made the decision to transition to a brand-new car, which, of course, involved taking on new payments. However, given that I don't drive extensively, I was inclined to avoid a substantial financial commitment. The Nissan Rogue provides me with the desired SUV experience without burdening me with an exorbitant payment; the financial arrangement is quite reasonable. Handling and styling are great; I have hauled 12 bags of mulch in the back with the seats down and could have held more. I am VERY satisfied overall. I find myself needing to exercise extra caution when making lane changes, particularly owing to the blind spots resulting from the small side windows situated towards the rear of the vehicle. To address this concern, I am actively engaged in making adjustments to my mirrors and consciously reducing the frequency of lane changes. The engine delivers strong performance, and the ride is really smooth.\n",
      "Actual Sentiment: POSITIVE\n",
      "Predicted Sentiment: POSITIVE (Confidence: 0.9987)\n",
      "\n"
     ]
    }
   ],
   "source": [
    "classification_model = pipeline(task = \"sentiment-analysis\", model = 'distilbert-base-uncased-finetuned-sst-2-english')\n",
    "\n",
    "predicted_labels = classification_model(reviews)\n",
    "\n",
    "for review, prediction, label in zip(reviews, predicted_labels, real_labels):\n",
    "    print(f\"Review: {review}\\nActual Sentiment: {label}\\nPredicted Sentiment: {prediction['label']} (Confidence: {prediction['score']:.4f})\\n\")"
   ]
  },
  {
   "cell_type": "code",
   "execution_count": 81,
   "id": "7399004d-896c-4a7b-9142-8be43f21c2b0",
   "metadata": {
    "executionCancelledAt": null,
    "executionTime": 229,
    "lastExecutedAt": 1754820427602,
    "lastExecutedByKernel": "6b70e460-24a6-4388-a6a8-29fb6c70e129",
    "lastScheduledRunId": null,
    "lastSuccessfullyExecutedCode": "accuracy = evaluate.load(\"accuracy\")\nf1 = evaluate.load(\"f1\")\n\nreferences = [1 if label == 'POSITIVE' else 0 for label in real_labels]\npredictions = [1 if prediction['label'] == 'POSITIVE' else 0 for prediction in predicted_labels]\n\naccuracy_result_dict = accuracy.compute(references=references, predictions=predictions)\naccuracy_result = accuracy_result_dict['accuracy']\nf1_result_dict = f1.compute(references=references, predictions=predictions)\nf1_result = f1_result_dict['f1']\nprint(f\"Accuracy: {accuracy_result}\")\nprint(f\"F1 result: {f1_result}\")"
   },
   "outputs": [
    {
     "name": "stdout",
     "output_type": "stream",
     "text": [
      "Accuracy: 0.8\n",
      "F1 result: 0.8571428571428571\n"
     ]
    }
   ],
   "source": [
    "accuracy = evaluate.load(\"accuracy\")\n",
    "f1 = evaluate.load(\"f1\")\n",
    "\n",
    "references = [1 if label == 'POSITIVE' else 0 for label in real_labels]\n",
    "predictions = [1 if prediction['label'] == 'POSITIVE' else 0 for prediction in predicted_labels]\n",
    "\n",
    "accuracy_result_dict = accuracy.compute(references=references, predictions=predictions)\n",
    "accuracy_result = accuracy_result_dict['accuracy']\n",
    "f1_result_dict = f1.compute(references=references, predictions=predictions)\n",
    "f1_result = f1_result_dict['f1']\n",
    "print(f\"Accuracy: {accuracy_result}\")\n",
    "print(f\"F1 result: {f1_result}\")"
   ]
  },
  {
   "cell_type": "code",
   "execution_count": 82,
   "id": "614daddf-1485-4546-950f-2ac03067cfdc",
   "metadata": {
    "executionCancelledAt": null,
    "executionTime": 1924,
    "lastExecutedAt": 1754820429527,
    "lastExecutedByKernel": "6b70e460-24a6-4388-a6a8-29fb6c70e129",
    "lastScheduledRunId": null,
    "lastSuccessfullyExecutedCode": "translate_model = pipeline(task = 'translation_en_to_es', model = 'Helsinki-NLP/opus-mt-en-es')\n\nfirst_review = reviews[0]\ntranslated_review = translate_model(first_review, max_length = 30)[0]['translation_text']\nprint(f\"Model translation:\\n{translated_review}\")\n\nwith open(\"data/reference_translations.txt\", 'r') as file:\n    lines = file.readlines()\nreferences = [line.strip() for line in lines]\nprint(f\"Spanish translation references:\\n{references}\")",
    "outputsMetadata": {
     "0": {
      "height": 80,
      "type": "stream"
     },
     "1": {
      "height": 164,
      "type": "stream"
     }
    }
   },
   "outputs": [
    {
     "name": "stderr",
     "output_type": "stream",
     "text": [
      "Device set to use cpu\n",
      "Your input_length: 365 is bigger than 0.9 * max_length: 30. You might consider increasing your max_length manually, e.g. translator('...', max_length=400)\n"
     ]
    },
    {
     "name": "stdout",
     "output_type": "stream",
     "text": [
      "Model translation:\n",
      "Estoy muy satisfecho con mi 2014 Nissan NV SL. Uso esta furgoneta para mis entregas de negocios y uso personal. Camping, viajes\n",
      "Spanish translation references:\n",
      "['Estoy muy satisfecho con mi Nissan NV SL 2014. Utilizo esta camioneta para mis entregas comerciales y uso personal.', 'Estoy muy satisfecho con mi Nissan NV SL 2014. Uso esta furgoneta para mis entregas comerciales y uso personal.']\n"
     ]
    }
   ],
   "source": [
    "translate_model = pipeline(task = 'translation_en_to_es', model = 'Helsinki-NLP/opus-mt-en-es')\n",
    "\n",
    "first_review = reviews[0]\n",
    "translated_review = translate_model(first_review, max_length = 30)[0]['translation_text']\n",
    "print(f\"Model translation:\\n{translated_review}\")\n",
    "\n",
    "with open(\"data/reference_translations.txt\", 'r') as file:\n",
    "    lines = file.readlines()\n",
    "references = [line.strip() for line in lines]\n",
    "print(f\"Spanish translation references:\\n{references}\")"
   ]
  },
  {
   "cell_type": "code",
   "execution_count": 83,
   "id": "3645c4de-87d8-49ac-b61e-66da9039d5de",
   "metadata": {
    "executionCancelledAt": null,
    "executionTime": 248,
    "lastExecutedAt": 1754820429775,
    "lastExecutedByKernel": "6b70e460-24a6-4388-a6a8-29fb6c70e129",
    "lastScheduledRunId": null,
    "lastSuccessfullyExecutedCode": "bleu = evaluate.load(\"bleu\")\nbleu_score = bleu.compute(predictions=[translated_review], references=[references])\nprint(bleu_score['bleu'])"
   },
   "outputs": [
    {
     "name": "stdout",
     "output_type": "stream",
     "text": [
      "0.5252034293335157\n"
     ]
    }
   ],
   "source": [
    "bleu = evaluate.load(\"bleu\")\n",
    "bleu_score = bleu.compute(predictions=[translated_review], references=[references])\n",
    "print(bleu_score['bleu'])"
   ]
  },
  {
   "cell_type": "code",
   "execution_count": 84,
   "id": "6dc0f46b-5dca-4692-bf85-e8857ce9f8e5",
   "metadata": {
    "executionCancelledAt": null,
    "executionTime": 230,
    "lastExecutedAt": 1754820430005,
    "lastExecutedByKernel": "6b70e460-24a6-4388-a6a8-29fb6c70e129",
    "lastScheduledRunId": null,
    "lastSuccessfullyExecutedCode": "from transformers import AutoTokenizer\nfrom transformers import AutoModelForQuestionAnswering\n\n# Instantiate model and tokenizer\nmodel_ckp = \"deepset/minilm-uncased-squad2\"\ntokenizer = AutoTokenizer.from_pretrained(model_ckp)\nmodel = AutoModelForQuestionAnswering.from_pretrained(model_ckp)\n\n# Define context and question, and tokenize them\ncontext = reviews[1]\nprint(f\"Context:\\n{context}\")\nquestion = \"What did he like about the brand?\"\ninputs = tokenizer(question, context, return_tensors=\"pt\")\n\n# Perform inference and extract answer from raw outputs\nwith torch.no_grad():\n  outputs = model(**inputs)\nstart_idx = torch.argmax(outputs.start_logits)\nend_idx = torch.argmax(outputs.end_logits) + 1\nanswer_span = inputs[\"input_ids\"][0][start_idx:end_idx]\n\n# Decode and show answer\nanswer = tokenizer.decode(answer_span)\nprint(\"Answer: \",answer)",
    "outputsMetadata": {
     "0": {
      "height": 185,
      "type": "stream"
     },
     "2": {
      "height": 185,
      "type": "stream"
     }
    }
   },
   "outputs": [
    {
     "name": "stderr",
     "output_type": "stream",
     "text": [
      "Some weights of the model checkpoint at deepset/minilm-uncased-squad2 were not used when initializing BertForQuestionAnswering: ['bert.pooler.dense.bias', 'bert.pooler.dense.weight']\n",
      "- This IS expected if you are initializing BertForQuestionAnswering from the checkpoint of a model trained on another task or with another architecture (e.g. initializing a BertForSequenceClassification model from a BertForPreTraining model).\n",
      "- This IS NOT expected if you are initializing BertForQuestionAnswering from the checkpoint of a model that you expect to be exactly identical (initializing a BertForSequenceClassification model from a BertForSequenceClassification model).\n"
     ]
    },
    {
     "name": "stdout",
     "output_type": "stream",
     "text": [
      "Context:\n",
      "The car is fine. It's a bit loud and not very powerful. On one hand, compared to its peers, the interior is well-built. The transmission failed a few years ago, and the dealer replaced it under warranty with no issues. Now, about 60k miles later, the transmission is failing again. It sounds like a truck, and the issues are well-documented. The dealer tells me it is normal, refusing to do anything to resolve the issue. After owning the car for 4 years, there are many other vehicles I would purchase over this one. Initially, I really liked what the brand is about: ride quality, reliability, etc. But I will not purchase another one. Despite these concerns, I must say, the level of comfort in the car has always been satisfactory, but not worth the rest of issues found.\n",
      "Answer:  ride quality, reliability\n"
     ]
    }
   ],
   "source": [
    "from transformers import AutoTokenizer\n",
    "from transformers import AutoModelForQuestionAnswering\n",
    "\n",
    "# Instantiate model and tokenizer\n",
    "model_ckp = \"deepset/minilm-uncased-squad2\"\n",
    "tokenizer = AutoTokenizer.from_pretrained(model_ckp)\n",
    "model = AutoModelForQuestionAnswering.from_pretrained(model_ckp)\n",
    "\n",
    "# Define context and question, and tokenize them\n",
    "context = reviews[1]\n",
    "print(f\"Context:\\n{context}\")\n",
    "question = \"What did he like about the brand?\"\n",
    "inputs = tokenizer(question, context, return_tensors=\"pt\")\n",
    "\n",
    "# Perform inference and extract answer from raw outputs\n",
    "with torch.no_grad():\n",
    "  outputs = model(**inputs)\n",
    "start_idx = torch.argmax(outputs.start_logits)\n",
    "end_idx = torch.argmax(outputs.end_logits) + 1\n",
    "answer_span = inputs[\"input_ids\"][0][start_idx:end_idx]\n",
    "\n",
    "# Decode and show answer\n",
    "answer = tokenizer.decode(answer_span)\n",
    "print(\"Answer: \",answer)"
   ]
  },
  {
   "cell_type": "code",
   "execution_count": 85,
   "id": "19def470-3772-4458-8372-cd9853434705",
   "metadata": {
    "executionCancelledAt": null,
    "executionTime": 1381,
    "lastExecutedAt": 1754820431386,
    "lastExecutedByKernel": "6b70e460-24a6-4388-a6a8-29fb6c70e129",
    "lastScheduledRunId": null,
    "lastSuccessfullyExecutedCode": "text_to_sum = reviews[-1]\n\nprint(f\"Original text:\\n{text_to_sum}\")\n\nsummarizer = pipeline(task='summarization', model ='cnicu/t5-small-booksum')\noutputs = summarizer(text_to_sum, max_length = 50)\nsummarized_text = outputs[0]['summary_text']\nprint(f\"Summarized text:\\n{summarized_text}\")\n",
    "outputsMetadata": {
     "0": {
      "height": 248,
      "type": "stream"
     },
     "1": {
      "height": 38,
      "type": "stream"
     },
     "2": {
      "height": 101,
      "type": "stream"
     },
     "8": {
      "height": 101,
      "type": "stream"
     },
     "9": {
      "height": 80,
      "type": "stream"
     }
    }
   },
   "outputs": [
    {
     "name": "stdout",
     "output_type": "stream",
     "text": [
      "Original text:\n",
      "I've been dreaming of owning an SUV for quite a while, but I've been driving cars that were already paid for during an extended period. I ultimately made the decision to transition to a brand-new car, which, of course, involved taking on new payments. However, given that I don't drive extensively, I was inclined to avoid a substantial financial commitment. The Nissan Rogue provides me with the desired SUV experience without burdening me with an exorbitant payment; the financial arrangement is quite reasonable. Handling and styling are great; I have hauled 12 bags of mulch in the back with the seats down and could have held more. I am VERY satisfied overall. I find myself needing to exercise extra caution when making lane changes, particularly owing to the blind spots resulting from the small side windows situated towards the rear of the vehicle. To address this concern, I am actively engaged in making adjustments to my mirrors and consciously reducing the frequency of lane changes. The engine delivers strong performance, and the ride is really smooth.\n"
     ]
    },
    {
     "name": "stderr",
     "output_type": "stream",
     "text": [
      "Device set to use cpu\n"
     ]
    },
    {
     "name": "stdout",
     "output_type": "stream",
     "text": [
      "Summarized text:\n",
      "the Nissan Rogue provides me with the desired SUV experience without burdening me with an exorbitant payment; the financial arrangement is quite reasonable. I have hauled 12 bags of mulch in the back with the seats down and could have\n"
     ]
    }
   ],
   "source": [
    "text_to_sum = reviews[-1]\n",
    "\n",
    "print(f\"Original text:\\n{text_to_sum}\")\n",
    "\n",
    "summarizer = pipeline(task='summarization', model ='cnicu/t5-small-booksum')\n",
    "outputs = summarizer(text_to_sum, max_length = 50)\n",
    "summarized_text = outputs[0]['summary_text']\n",
    "print(f\"Summarized text:\\n{summarized_text}\")\n"
   ]
  }
 ],
 "metadata": {
  "editor": "DataLab",
  "kernelspec": {
   "display_name": "Python 3 (ipykernel)",
   "language": "python",
   "name": "python3"
  },
  "language_info": {
   "codemirror_mode": {
    "name": "ipython",
    "version": 3
   },
   "file_extension": ".py",
   "mimetype": "text/x-python",
   "name": "python",
   "nbconvert_exporter": "python",
   "pygments_lexer": "ipython3",
   "version": "3.10.12"
  }
 },
 "nbformat": 4,
 "nbformat_minor": 5
}
